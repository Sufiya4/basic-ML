{
 "cells": [
  {
   "cell_type": "code",
   "execution_count": 21,
   "id": "497c10c0-9237-4900-a7b9-bbe1b72a75e5",
   "metadata": {},
   "outputs": [],
   "source": [
    "import pandas as pd\n",
    "from sklearn.tree import DecisionTreeClassifier\n",
    "from sklearn.model_selection import train_test_split\n",
    "from sklearn import tree\n",
    "\n",
    "df= pd.read_csv(\"music.csv\")\n",
    "X = df.drop(columns = [\"genre\"])\n",
    "y = df['genre']\n",
    "#X_train, X_test, y_train, y_test = train_test_split(X, y, test_size = 0.5)\n",
    "model = DecisionTreeClassifier()\n",
    "model.fit(X_train,y_train)\n",
    "#predictions = model.predict(X_test)\n",
    "tree.export_graphviz(model, out_file = 'music-recommender.dot',\n",
    "                      feature_names =['age', 'gender'],\n",
    "                      class_names= sorted(y.unique()),\n",
    "                      label = 'all', \n",
    "                      rounded = True,\n",
    "                      filled = True) "
   ]
  },
  {
   "cell_type": "code",
   "execution_count": null,
   "id": "a3e7b9ee-3536-4892-95dc-3b1d7a9dbafc",
   "metadata": {},
   "outputs": [],
   "source": [
    "\n"
   ]
  },
  {
   "cell_type": "code",
   "execution_count": null,
   "id": "34a91d25-1acd-4722-b99c-823d7d000ec6",
   "metadata": {},
   "outputs": [],
   "source": []
  },
  {
   "cell_type": "code",
   "execution_count": null,
   "id": "03cbfd75-6c37-43ec-931a-12f0e76b9e60",
   "metadata": {},
   "outputs": [],
   "source": []
  }
 ],
 "metadata": {
  "kernelspec": {
   "display_name": "Python 3 (ipykernel)",
   "language": "python",
   "name": "python3"
  },
  "language_info": {
   "codemirror_mode": {
    "name": "ipython",
    "version": 3
   },
   "file_extension": ".py",
   "mimetype": "text/x-python",
   "name": "python",
   "nbconvert_exporter": "python",
   "pygments_lexer": "ipython3",
   "version": "3.11.6"
  }
 },
 "nbformat": 4,
 "nbformat_minor": 5
}
